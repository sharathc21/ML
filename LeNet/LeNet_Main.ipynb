{
  "nbformat": 4,
  "nbformat_minor": 0,
  "metadata": {
    "colab": {
      "provenance": [],
      "mount_file_id": "1_6h2agmvq1k5nB5AuPqAXLu1JRUIiixs",
      "authorship_tag": "ABX9TyONGWkEgLxQfmPrhsyNxla6",
      "include_colab_link": true
    },
    "kernelspec": {
      "name": "python3",
      "display_name": "Python 3"
    },
    "language_info": {
      "name": "python"
    }
  },
  "cells": [
    {
      "cell_type": "markdown",
      "metadata": {
        "id": "view-in-github",
        "colab_type": "text"
      },
      "source": [
        "<a href=\"https://colab.research.google.com/github/sharathc21/ML/blob/main/LeNet_Main.ipynb\" target=\"_parent\"><img src=\"https://colab.research.google.com/assets/colab-badge.svg\" alt=\"Open In Colab\"/></a>"
      ]
    },
    {
      "cell_type": "code",
      "source": [
        "!pip install import-ipynb"
      ],
      "metadata": {
        "colab": {
          "base_uri": "https://localhost:8080/"
        },
        "id": "wvO-ek8g-D6j",
        "outputId": "64e7fe42-6cb7-4585-e1a4-6c14c136e081"
      },
      "execution_count": 2,
      "outputs": [
        {
          "output_type": "stream",
          "name": "stdout",
          "text": [
            "Looking in indexes: https://pypi.org/simple, https://us-python.pkg.dev/colab-wheels/public/simple/\n",
            "Collecting import-ipynb\n",
            "  Downloading import_ipynb-0.1.4-py3-none-any.whl (4.1 kB)\n",
            "Requirement already satisfied: nbformat in /usr/local/lib/python3.8/dist-packages (from import-ipynb) (5.7.0)\n",
            "Requirement already satisfied: IPython in /usr/local/lib/python3.8/dist-packages (from import-ipynb) (7.9.0)\n",
            "Requirement already satisfied: prompt-toolkit<2.1.0,>=2.0.0 in /usr/local/lib/python3.8/dist-packages (from IPython->import-ipynb) (2.0.10)\n",
            "Requirement already satisfied: traitlets>=4.2 in /usr/local/lib/python3.8/dist-packages (from IPython->import-ipynb) (5.7.1)\n",
            "Requirement already satisfied: pexpect in /usr/local/lib/python3.8/dist-packages (from IPython->import-ipynb) (4.8.0)\n",
            "Requirement already satisfied: pickleshare in /usr/local/lib/python3.8/dist-packages (from IPython->import-ipynb) (0.7.5)\n",
            "Requirement already satisfied: decorator in /usr/local/lib/python3.8/dist-packages (from IPython->import-ipynb) (4.4.2)\n",
            "Requirement already satisfied: setuptools>=18.5 in /usr/local/lib/python3.8/dist-packages (from IPython->import-ipynb) (57.4.0)\n",
            "Collecting jedi>=0.10\n",
            "  Downloading jedi-0.18.2-py2.py3-none-any.whl (1.6 MB)\n",
            "\u001b[K     |████████████████████████████████| 1.6 MB 4.9 MB/s \n",
            "\u001b[?25hRequirement already satisfied: pygments in /usr/local/lib/python3.8/dist-packages (from IPython->import-ipynb) (2.6.1)\n",
            "Requirement already satisfied: backcall in /usr/local/lib/python3.8/dist-packages (from IPython->import-ipynb) (0.2.0)\n",
            "Requirement already satisfied: parso<0.9.0,>=0.8.0 in /usr/local/lib/python3.8/dist-packages (from jedi>=0.10->IPython->import-ipynb) (0.8.3)\n",
            "Requirement already satisfied: six>=1.9.0 in /usr/local/lib/python3.8/dist-packages (from prompt-toolkit<2.1.0,>=2.0.0->IPython->import-ipynb) (1.15.0)\n",
            "Requirement already satisfied: wcwidth in /usr/local/lib/python3.8/dist-packages (from prompt-toolkit<2.1.0,>=2.0.0->IPython->import-ipynb) (0.2.5)\n",
            "Requirement already satisfied: fastjsonschema in /usr/local/lib/python3.8/dist-packages (from nbformat->import-ipynb) (2.16.2)\n",
            "Requirement already satisfied: jsonschema>=2.6 in /usr/local/lib/python3.8/dist-packages (from nbformat->import-ipynb) (4.3.3)\n",
            "Requirement already satisfied: jupyter-core in /usr/local/lib/python3.8/dist-packages (from nbformat->import-ipynb) (5.1.0)\n",
            "Requirement already satisfied: importlib-resources>=1.4.0 in /usr/local/lib/python3.8/dist-packages (from jsonschema>=2.6->nbformat->import-ipynb) (5.10.1)\n",
            "Requirement already satisfied: attrs>=17.4.0 in /usr/local/lib/python3.8/dist-packages (from jsonschema>=2.6->nbformat->import-ipynb) (22.1.0)\n",
            "Requirement already satisfied: pyrsistent!=0.17.0,!=0.17.1,!=0.17.2,>=0.14.0 in /usr/local/lib/python3.8/dist-packages (from jsonschema>=2.6->nbformat->import-ipynb) (0.19.2)\n",
            "Requirement already satisfied: zipp>=3.1.0 in /usr/local/lib/python3.8/dist-packages (from importlib-resources>=1.4.0->jsonschema>=2.6->nbformat->import-ipynb) (3.11.0)\n",
            "Requirement already satisfied: platformdirs>=2.5 in /usr/local/lib/python3.8/dist-packages (from jupyter-core->nbformat->import-ipynb) (2.6.0)\n",
            "Requirement already satisfied: ptyprocess>=0.5 in /usr/local/lib/python3.8/dist-packages (from pexpect->IPython->import-ipynb) (0.7.0)\n",
            "Installing collected packages: jedi, import-ipynb\n",
            "Successfully installed import-ipynb-0.1.4 jedi-0.18.2\n"
          ]
        }
      ]
    },
    {
      "cell_type": "code",
      "source": [
        "import import_ipynb"
      ],
      "metadata": {
        "id": "EDoeoNAF-XhV"
      },
      "execution_count": 3,
      "outputs": []
    },
    {
      "cell_type": "code",
      "source": [
        "# !pip install ipynb"
      ],
      "metadata": {
        "id": "KNrIiM0k_CAX"
      },
      "execution_count": 4,
      "outputs": []
    },
    {
      "cell_type": "code",
      "source": [
        "# %run LeNetKeras.ipynb"
      ],
      "metadata": {
        "id": "rwFOIJ9o-kn6"
      },
      "execution_count": 5,
      "outputs": []
    },
    {
      "cell_type": "code",
      "source": [
        "# from google.colab import drive\n",
        "# drive.mount('/content/drive/ColabNotebooks')"
      ],
      "metadata": {
        "id": "IlsQh9CwqN7b"
      },
      "execution_count": 6,
      "outputs": []
    },
    {
      "cell_type": "code",
      "source": [
        "from LeNetKeras import LeNet"
      ],
      "metadata": {
        "colab": {
          "base_uri": "https://localhost:8080/"
        },
        "id": "2_flcSxBtsoy",
        "outputId": "1bfde77c-3cfb-47ad-8865-e18ade8e9135"
      },
      "execution_count": 7,
      "outputs": [
        {
          "output_type": "stream",
          "name": "stdout",
          "text": [
            "importing Jupyter notebook from LeNetKeras.ipynb\n"
          ]
        }
      ]
    },
    {
      "cell_type": "code",
      "execution_count": 8,
      "metadata": {
        "id": "Rr-tX2lmvfoH"
      },
      "outputs": [],
      "source": [
        "# from LeNetKeras import LeNet\n",
        "from sklearn.model_selection import train_test_split\n",
        "from sklearn import datasets\n",
        "from keras.optimizers import SGD\n",
        "from keras.utils import np_utils\n",
        "import numpy as np\n",
        "import cv2\n"
      ]
    },
    {
      "cell_type": "code",
      "source": [
        "weightspath1 = \"lenet_weights.hdf5\"\n"
      ],
      "metadata": {
        "id": "ytoIchdhOW_8"
      },
      "execution_count": 9,
      "outputs": []
    },
    {
      "cell_type": "code",
      "source": [
        "dataset = datasets.fetch_openml('mnist_784')"
      ],
      "metadata": {
        "id": "HX5bpjA9F2WC"
      },
      "execution_count": 19,
      "outputs": []
    },
    {
      "cell_type": "markdown",
      "source": [
        "Reshape the MNIST dataset from a flat list of 784-dim vectors, to\n",
        "28 x 28 pixel images, then scale the data to the range [0, 1.0]\n",
        "\n",
        "Construct the training and testing splits"
      ],
      "metadata": {
        "id": "NI_uuP1wGxSU"
      }
    },
    {
      "cell_type": "code",
      "source": [
        "# from keras.datasets import mnist"
      ],
      "metadata": {
        "id": "1VYQziM-e1XX"
      },
      "execution_count": 11,
      "outputs": []
    },
    {
      "cell_type": "code",
      "source": [
        "# (x_train, y_train), (x_test, y_test)= mnist.load_data()\n"
      ],
      "metadata": {
        "id": "VlDUN-u2e58c"
      },
      "execution_count": 18,
      "outputs": []
    },
    {
      "cell_type": "code",
      "source": [
        "data = dataset.data.reshape(dataset.data.shape[0], 28, 28)"
      ],
      "metadata": {
        "colab": {
          "base_uri": "https://localhost:8080/",
          "height": 287
        },
        "id": "Im2rRgW9L7B8",
        "outputId": "52429aac-5b3f-4380-e3ff-b2329f0e73c3"
      },
      "execution_count": 20,
      "outputs": [
        {
          "output_type": "error",
          "ename": "AttributeError",
          "evalue": "ignored",
          "traceback": [
            "\u001b[0;31m---------------------------------------------------------------------------\u001b[0m",
            "\u001b[0;31mAttributeError\u001b[0m                            Traceback (most recent call last)",
            "\u001b[0;32m<ipython-input-20-69b0a78e458c>\u001b[0m in \u001b[0;36m<module>\u001b[0;34m\u001b[0m\n\u001b[0;32m----> 1\u001b[0;31m \u001b[0mdata\u001b[0m \u001b[0;34m=\u001b[0m \u001b[0mdataset\u001b[0m\u001b[0;34m.\u001b[0m\u001b[0mdata\u001b[0m\u001b[0;34m.\u001b[0m\u001b[0mreshape\u001b[0m\u001b[0;34m(\u001b[0m\u001b[0mdataset\u001b[0m\u001b[0;34m.\u001b[0m\u001b[0mdata\u001b[0m\u001b[0;34m.\u001b[0m\u001b[0mshape\u001b[0m\u001b[0;34m[\u001b[0m\u001b[0;36m0\u001b[0m\u001b[0;34m]\u001b[0m\u001b[0;34m,\u001b[0m \u001b[0;36m28\u001b[0m\u001b[0;34m,\u001b[0m \u001b[0;36m28\u001b[0m\u001b[0;34m)\u001b[0m\u001b[0;34m\u001b[0m\u001b[0;34m\u001b[0m\u001b[0m\n\u001b[0m",
            "\u001b[0;32m/usr/local/lib/python3.8/dist-packages/pandas/core/generic.py\u001b[0m in \u001b[0;36m__getattr__\u001b[0;34m(self, name)\u001b[0m\n\u001b[1;32m   5485\u001b[0m         ):\n\u001b[1;32m   5486\u001b[0m             \u001b[0;32mreturn\u001b[0m \u001b[0mself\u001b[0m\u001b[0;34m[\u001b[0m\u001b[0mname\u001b[0m\u001b[0;34m]\u001b[0m\u001b[0;34m\u001b[0m\u001b[0;34m\u001b[0m\u001b[0m\n\u001b[0;32m-> 5487\u001b[0;31m         \u001b[0;32mreturn\u001b[0m \u001b[0mobject\u001b[0m\u001b[0;34m.\u001b[0m\u001b[0m__getattribute__\u001b[0m\u001b[0;34m(\u001b[0m\u001b[0mself\u001b[0m\u001b[0;34m,\u001b[0m \u001b[0mname\u001b[0m\u001b[0;34m)\u001b[0m\u001b[0;34m\u001b[0m\u001b[0;34m\u001b[0m\u001b[0m\n\u001b[0m\u001b[1;32m   5488\u001b[0m \u001b[0;34m\u001b[0m\u001b[0m\n\u001b[1;32m   5489\u001b[0m     \u001b[0;32mdef\u001b[0m \u001b[0m__setattr__\u001b[0m\u001b[0;34m(\u001b[0m\u001b[0mself\u001b[0m\u001b[0;34m,\u001b[0m \u001b[0mname\u001b[0m\u001b[0;34m:\u001b[0m \u001b[0mstr\u001b[0m\u001b[0;34m,\u001b[0m \u001b[0mvalue\u001b[0m\u001b[0;34m)\u001b[0m \u001b[0;34m->\u001b[0m \u001b[0;32mNone\u001b[0m\u001b[0;34m:\u001b[0m\u001b[0;34m\u001b[0m\u001b[0;34m\u001b[0m\u001b[0m\n",
            "\u001b[0;31mAttributeError\u001b[0m: 'DataFrame' object has no attribute 'reshape'"
          ]
        }
      ]
    },
    {
      "cell_type": "code",
      "source": [
        "# data = dataset.data.reshape(dataset.data.shape[0], 28, 28)\n",
        "# data= data[ : , np.newaxis, : , :]\n",
        "# (trainData, testData, trainLabels, testLabels) = train_test_split(\n",
        "# \tdata / 255.0, dataset.target.astype(\"int\"), test_size=0.33)\n"
      ],
      "metadata": {
        "id": "2Pru015MGF1_"
      },
      "execution_count": 13,
      "outputs": []
    },
    {
      "cell_type": "code",
      "source": [
        "x_train =x_train.reshape(x_train.shape[0], x_train.shape[1]*x_train.shape[2])\n",
        "x_test=x_test.reshape(x_test.shape[0], x_test.shape[1]*x_test.shape[2])"
      ],
      "metadata": {
        "id": "Kyir_7U1HtEg"
      },
      "execution_count": 14,
      "outputs": []
    },
    {
      "cell_type": "code",
      "source": [
        "# initialize the optimizer and model"
      ],
      "metadata": {
        "id": "ppm9za2_fhdY"
      },
      "execution_count": 15,
      "outputs": []
    },
    {
      "cell_type": "code",
      "source": [
        "print(\"[INFO] compiling model...\")"
      ],
      "metadata": {
        "colab": {
          "base_uri": "https://localhost:8080/"
        },
        "id": "g8KK_iBEfyvx",
        "outputId": "da3c07fa-9328-41a6-c287-4169353b7c3b"
      },
      "execution_count": 16,
      "outputs": [
        {
          "output_type": "stream",
          "name": "stdout",
          "text": [
            "[INFO] compiling model...\n"
          ]
        }
      ]
    },
    {
      "cell_type": "code",
      "source": [
        "# opt = SGD(lr=0.01)\n",
        "# model = LeNet.build(width= 28, height=28, depth= 1, classes=10, weightspath= weightspath1)\n",
        "# model.compile(loss='categorical_crossentropy', optimizer=opt, metrics=['accuracy'])\n",
        "\n",
        "\n",
        "\n",
        "\n",
        "\n"
      ],
      "metadata": {
        "id": "YfzTcytLf6JO"
      },
      "execution_count": 3,
      "outputs": []
    },
    {
      "cell_type": "code",
      "source": [
        "\n"
      ],
      "metadata": {
        "id": "VVx6lCG0pwbI"
      },
      "execution_count": null,
      "outputs": []
    },
    {
      "cell_type": "code",
      "source": [
        "######################"
      ],
      "metadata": {
        "id": "rIG3bLKIAL_P"
      },
      "execution_count": 1,
      "outputs": []
    },
    {
      "cell_type": "code",
      "source": [
        "from LeNetKeras import LeNet\n",
        "from sklearn.model_selection import train_test_split\n",
        "from sklearn import datasets\n",
        "from keras.optimizers import SGD\n",
        "from keras.utils import np_utils\n",
        "import numpy as np\n",
        "import cv2\n",
        "\n",
        "weightsPath = \"lenet_weights.hdf5\"\n",
        "\n",
        "print(\"downloading MNIST...\")\n",
        "dataset = datasets.fetch_mldata(\"MNIST Original\")\n",
        "\n",
        "# reshape the MNIST dataset from a flat list of 784-dim vectors, to\n",
        "# 28 x 28 pixel images, then scale the data to the range [0, 1.0]\n",
        "# and construct the training and testing splits\n",
        "data = dataset.data.reshape((dataset.data.shape[0], 28, 28))\n",
        "data = data[:, np.newaxis, :, :]\n",
        "(trainData, testData, trainLabels, testLabels) = train_test_split(\n",
        "\tdata / 255.0, dataset.target.astype(\"int\"), test_size=0.33)\n",
        "\n",
        "# transform the training and testing labels into vectors in the\n",
        "# range [0, classes] -- this generates a vector for each label,\n",
        "# where the index of the label is set to `1` and all other entries\n",
        "# to `0`; in the case of MNIST, there are 10 class labels\n",
        "trainLabels = np_utils.to_categorical(trainLabels, 10)\n",
        "testLabels = np_utils.to_categorical(testLabels, 10)\n",
        "\n",
        "# initialize the optimizer and model\n",
        "print(\"[INFO] compiling model...\")\n",
        "opt = SGD(lr=0.01)\n",
        "model = LeNet.build(width=28, height=28, depth=1, classes=10,\n",
        "\tweightsPath=weightsPath)\n",
        "model.compile(loss=\"categorical_crossentropy\", optimizer=opt,\n",
        "\tmetrics=[\"accuracy\"])\n",
        "\n",
        "# if no weights specified train the model\n",
        "if weightsPath is None:\n",
        "\tprint(\"[INFO] training...\")\n",
        "\tmodel.fit(trainData, trainLabels, batch_size=128, nb_epoch=20,\n",
        "\t\tverbose=1)\n",
        "\n",
        "\t# show the accuracy on the testing set\n",
        "\tprint(\"[INFO] evaluating...\")\n",
        "\t(loss, accuracy) = model.evaluate(testData, testLabels,\n",
        "\t\tbatch_size=128, verbose=1)\n",
        "\tprint(\"[INFO] accuracy: {:.2f}%\".format(accuracy * 100))\n",
        "\n",
        "\tprint(\"[INFO] dumping weights to file...\")\n",
        "\tmodel.save_weights(weightsPath, overwrite=True)\n",
        "\n",
        "# randomly select a few testing digits\n",
        "for i in np.random.choice(np.arange(0, len(testLabels)), size=(10,)):\n",
        "\t# classify the digit\n",
        "\tprobs = model.predict(testData[np.newaxis, i])\n",
        "\tprediction = probs.argmax(axis=1)\n",
        "\n",
        "\t# resize the image from a 28 x 28 to 96 x 96\n",
        "\timage = (testData[i][0] * 255).astype(\"uint8\")\n",
        "\timage = cv2.merge([image] * 3)\n",
        "\timage = cv2.resize(image, (96, 96), interpolation=cv2.INTER_LINEAR)\n",
        "\tcv2.putText(image, str(prediction[0]), (5, 20),\n",
        "\t\tcv2.FONT_HERSHEY_SIMPLEX, 0.75, (0, 255, 0), 2)\n",
        "\n",
        "\t# show the image and prediction\n",
        "\tprint(\"[INFO] Predicted: {}, Actual: {}\".format(prediction[0],\n",
        "\t\tnp.argmax(testLabels[i])))\n",
        "\tcv2.imshow(\"Digit\", image)\n",
        "\tcv2.waitKey(0)"
      ],
      "metadata": {
        "id": "_6NlIjkiATZi"
      },
      "execution_count": null,
      "outputs": []
    }
  ]
}
