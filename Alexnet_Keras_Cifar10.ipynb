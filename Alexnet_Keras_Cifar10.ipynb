{
  "nbformat": 4,
  "nbformat_minor": 0,
  "metadata": {
    "colab": {
      "provenance": [],
      "authorship_tag": "ABX9TyMU1loflw79Iawm7IoNz6rl",
      "include_colab_link": true
    },
    "kernelspec": {
      "name": "python3",
      "display_name": "Python 3"
    },
    "language_info": {
      "name": "python"
    }
  },
  "cells": [
    {
      "cell_type": "markdown",
      "metadata": {
        "id": "view-in-github",
        "colab_type": "text"
      },
      "source": [
        "<a href=\"https://colab.research.google.com/github/sharathc21/ML/blob/main/Alexnet_Keras_Cifar10.ipynb\" target=\"_parent\"><img src=\"https://colab.research.google.com/assets/colab-badge.svg\" alt=\"Open In Colab\"/></a>"
      ]
    },
    {
      "cell_type": "code",
      "execution_count": 2,
      "metadata": {
        "id": "UxwhX6atzLuU"
      },
      "outputs": [],
      "source": [
        "from keras.datasets import cifar10\n",
        "from keras.models import Sequential\n"
      ]
    },
    {
      "cell_type": "code",
      "source": [
        "from ast import increment_lineno\n",
        "from keras.layers.convolutional.conv2d import Convolution2D\n",
        "from keras.layers.pooling.max_pooling2d import MaxPooling2D\n",
        "from keras.layers import Dense, Conv2D, Dropout,Flatten\n",
        "from keras.constraints import maxnorm\n",
        "from keras.optimizers import SGD, Adam\n",
        "from keras.layers.convolutional import MaxPooling2D, Convolution2D\n",
        "from keras.preprocessing.image import ImageDataGenerator\n",
        "from keras.callbacks import ModelCheckpoint, LearningRateScheduler\n",
        "from keras.callbacks import  ReduceLROnPlateau, EarlyStopping\n",
        "from keras.regularizers import l2, l1\n",
        "from keras import backend as bk\n",
        "from keras.utils import np_utils\n",
        "import matplotlib.pyplot as plt\n",
        "import skimage\n",
        "from skimage.util import img_as_ubyte\n",
        "%matplotlib inline\n",
        "\n",
        "\n"
      ],
      "metadata": {
        "id": "AwhW_tU50F02"
      },
      "execution_count": 2,
      "outputs": []
    },
    {
      "cell_type": "code",
      "source": [
        "import numpy as np\n",
        "import os"
      ],
      "metadata": {
        "id": "qmxznnwgqYep"
      },
      "execution_count": 4,
      "outputs": []
    },
    {
      "cell_type": "markdown",
      "source": [
        "Data set information"
      ],
      "metadata": {
        "id": "-tKyu94fwBEP"
      }
    },
    {
      "cell_type": "code",
      "source": [
        "\n",
        "DATASET = 'cifar-10'\n",
        "input_shape = (32,32,3)\n",
        "\n",
        "if DATASET == 'cifar-10':\n",
        "  num_classes = 10\n",
        "\n",
        "elif DATASET == 'cifar-100':\n",
        "  num_classes = 100\n",
        "\n",
        "\n"
      ],
      "metadata": {
        "colab": {
          "base_uri": "https://localhost:8080/"
        },
        "id": "MP2L4UilmSNP",
        "outputId": "d6b43ee3-cd04-4c02-be2f-e53f8e9dff9f"
      },
      "execution_count": 5,
      "outputs": [
        {
          "output_type": "stream",
          "name": "stdout",
          "text": [
            "Model Type:  Alexnet\n",
            "Model File:  /content/saved_models/cifar-10_Alexnet_model.{epoch:03d}.h5\n"
          ]
        }
      ]
    },
    {
      "cell_type": "markdown",
      "source": [
        "Model Information"
      ],
      "metadata": {
        "id": "9BnWV1UpwEsB"
      }
    },
    {
      "cell_type": "code",
      "source": [
        "model_type = 'Alexnet'\n",
        "epochs= 25\n",
        "lrate = 0.01\n",
        "decay =lrate/epochs\n",
        "batch_size =32\n",
        "\n",
        "data_augmentation = True\n",
        "flow_from_dir = False\n",
        "\n",
        "subtract_mean=True\n",
        "seed =7\n",
        "\n",
        "np.random.seed(seed)\n",
        "\n",
        "validate_dir = os.path.join(\"data\", \"test\")\n"
      ],
      "metadata": {
        "id": "a_D4sdA-qUCx"
      },
      "execution_count": null,
      "outputs": []
    }
  ]
}